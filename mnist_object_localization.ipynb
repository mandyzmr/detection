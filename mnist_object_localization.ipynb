{
 "cells": [
  {
   "cell_type": "markdown",
   "id": "5eec9bf5-2394-48f5-b90c-e603224c11d5",
   "metadata": {},
   "source": [
    "> ### Object Localization"
   ]
  },
  {
   "cell_type": "code",
   "execution_count": 2,
   "id": "b6c4a677-77a7-4a36-93f0-74d52d073472",
   "metadata": {},
   "outputs": [],
   "source": [
    "import os\n",
    "import numpy as np\n",
    "import pandas as pd\n",
    "import pickle\n",
    "import glob\n",
    "\n",
    "# Plotting\n",
    "import imageio\n",
    "import PIL\n",
    "from PIL import ImageDraw, Image\n",
    "import cv2\n",
    "import seaborn as sns\n",
    "import matplotlib.pyplot as plt\n",
    "%matplotlib inline\n",
    "plt.rcParams['font.sans-serif']=['Arial Unicode MS'] \n",
    "plt.rcParams['axes.unicode_minus']=False \n",
    "\n",
    "# Framework\n",
    "import tensorflow as tf\n",
    "from tensorflow import keras\n",
    "from tensorflow.keras import layers\n",
    "import tensorflow_datasets as tfds\n",
    "import torch\n",
    "import torch.nn as nn\n",
    "from torchsummary import summary\n",
    "from torchvision import transforms\n",
    "import torch.nn.functional as F"
   ]
  },
  {
   "cell_type": "markdown",
   "id": "136ed60c-7d78-48f1-94dd-219c7472f1c1",
   "metadata": {},
   "source": [
    "#### Data"
   ]
  },
  {
   "cell_type": "code",
   "execution_count": 49,
   "id": "76b31d12-acba-44c3-90d4-294389ebbc82",
   "metadata": {
    "tags": []
   },
   "outputs": [
    {
     "data": {
      "text/plain": [
       "<PrefetchDataset shapes: {image: (28, 28, 1), label: ()}, types: {image: tf.uint8, label: tf.int64}>"
      ]
     },
     "execution_count": 49,
     "metadata": {},
     "output_type": "execute_result"
    },
    {
     "data": {
      "text/plain": [
       "<PrefetchDataset shapes: {image: (28, 28, 1), label: ()}, types: {image: tf.uint8, label: tf.int64}>"
      ]
     },
     "execution_count": 49,
     "metadata": {},
     "output_type": "execute_result"
    }
   ],
   "source": [
    "(train, test), info = tfds.load(\"mnist\", with_info=True, split=['train', 'test'])\n",
    "train\n",
    "test"
   ]
  },
  {
   "cell_type": "code",
   "execution_count": 50,
   "id": "8d53ecc8-856e-4629-a3cf-f8da659fadbc",
   "metadata": {},
   "outputs": [
    {
     "name": "stdout",
     "output_type": "stream",
     "text": [
      "60000\n",
      "10000\n",
      "10\n"
     ]
    }
   ],
   "source": [
    "train_num = info.splits['train'].num_examples\n",
    "test_num = info.splits['test'].num_examples\n",
    "num_classes = info.features['label'].num_classes\n",
    "print(train_num)\n",
    "print(test_num)\n",
    "print(num_classes)"
   ]
  },
  {
   "cell_type": "code",
   "execution_count": 51,
   "id": "c3450c8b-d629-4ccc-99fa-c5e4cef5f958",
   "metadata": {},
   "outputs": [],
   "source": [
    "#通过padding，人工创建localization的training set\n",
    "def preprocess(dataset):  \n",
    "    images, labels = dataset['image'], dataset['label'] \n",
    "    ymin = tf.random.uniform((),0,48, dtype=tf.int32) #生成0到47的随机整数\n",
    "    xmin = tf.random.uniform((),0,48, dtype=tf.int32) #由于28+47=75\n",
    "    images = tf.reshape(images,[28,28,1]) #模型首层是Conv\n",
    "    \n",
    "    # 在图片top和left分别增加多少行/列的0，最终生成75长宽的正方形，即剩余bottom和right补0\n",
    "    images = tf.image.pad_to_bounding_box(images, ymin, xmin, 75, 75)\n",
    "    images = tf.cast(images, tf.float32)/255.0 #0-1，使得padding为0黑底\n",
    "    \n",
    "    # Bounding box是根据图片长宽的相对位置，得到coordinates\n",
    "    xmin = tf.cast(xmin, tf.float32) #后续除\n",
    "    ymin = tf.cast(ymin, tf.float32)\n",
    "    xmin = xmin / 75\n",
    "    ymin = ymin / 75\n",
    "    xmax = (xmin + 28) / 75\n",
    "    ymax = (ymin + 28) / 75\n",
    "    labels = tf.one_hot(labels, 10) #转成10类别的one-hot\n",
    "    bboxes = [xmin, ymin, xmax, ymax]\n",
    "    return images, (labels, bboxes) \n",
    "\n",
    "def prepare_train_dataset(train, buffer_size=1024, batch_size=64):\n",
    "    train = (train\n",
    "            .map(preprocess) \n",
    "            .shuffle(buffer_size=buffer_size) \n",
    "            .batch(batch_size=batch_size, drop_remainder=True) \n",
    "            .prefetch(tf.data.experimental.AUTOTUNE)) \n",
    "    return train\n",
    "\n",
    "def prepare_test_dataset(test, batch_size=64):\n",
    "    test = (test\n",
    "            .map(preprocess)\n",
    "            .batch(batch_size=batch_size, drop_remainder=True)) \n",
    "    return test"
   ]
  },
  {
   "cell_type": "code",
   "execution_count": 52,
   "id": "fef73e7f-4f78-4f8c-9eb2-25505a25e088",
   "metadata": {},
   "outputs": [],
   "source": [
    "BUFFER_SIZE = 5000\n",
    "BATCH_SIZE = 64 "
   ]
  },
  {
   "cell_type": "code",
   "execution_count": 53,
   "id": "34b806b3-0e05-4dd2-85ee-6aba694dc1fd",
   "metadata": {},
   "outputs": [
    {
     "data": {
      "text/plain": [
       "<PrefetchDataset shapes: ((64, 75, 75, 1), ((64, 10), (64, 4))), types: (tf.float32, (tf.float32, tf.float32))>"
      ]
     },
     "execution_count": 53,
     "metadata": {},
     "output_type": "execute_result"
    },
    {
     "data": {
      "text/plain": [
       "<BatchDataset shapes: ((10000, 75, 75, 1), ((10000, 10), (10000, 4))), types: (tf.float32, (tf.float32, tf.float32))>"
      ]
     },
     "execution_count": 53,
     "metadata": {},
     "output_type": "execute_result"
    }
   ],
   "source": [
    "train = prepare_train_dataset(train, buffer_size=BUFFER_SIZE, batch_size=BATCH_SIZE)\n",
    "test = prepare_test_dataset(test, batch_size=test_num) #一次性加载\n",
    "train\n",
    "test"
   ]
  },
  {
   "cell_type": "markdown",
   "id": "dfabbb6b-4d8b-4847-a51c-bcb275739c20",
   "metadata": {
    "id": "f8nHWWkS_eeZ"
   },
   "source": [
    "#### Model"
   ]
  },
  {
   "cell_type": "code",
   "execution_count": 56,
   "id": "2349a423-0759-49ec-9c9d-00ab760f10f0",
   "metadata": {},
   "outputs": [
    {
     "name": "stdout",
     "output_type": "stream",
     "text": [
      "Model: \"model\"\n",
      "__________________________________________________________________________________________________\n",
      "Layer (type)                    Output Shape         Param #     Connected to                     \n",
      "==================================================================================================\n",
      "input_2 (InputLayer)            [(None, 75, 75, 1)]  0                                            \n",
      "__________________________________________________________________________________________________\n",
      "conv2d_3 (Conv2D)               (None, 73, 73, 16)   160         input_2[0][0]                    \n",
      "__________________________________________________________________________________________________\n",
      "average_pooling2d_3 (AveragePoo (None, 36, 36, 16)   0           conv2d_3[0][0]                   \n",
      "__________________________________________________________________________________________________\n",
      "conv2d_4 (Conv2D)               (None, 34, 34, 32)   4640        average_pooling2d_3[0][0]        \n",
      "__________________________________________________________________________________________________\n",
      "average_pooling2d_4 (AveragePoo (None, 17, 17, 32)   0           conv2d_4[0][0]                   \n",
      "__________________________________________________________________________________________________\n",
      "conv2d_5 (Conv2D)               (None, 15, 15, 64)   18496       average_pooling2d_4[0][0]        \n",
      "__________________________________________________________________________________________________\n",
      "average_pooling2d_5 (AveragePoo (None, 7, 7, 64)     0           conv2d_5[0][0]                   \n",
      "__________________________________________________________________________________________________\n",
      "flatten_1 (Flatten)             (None, 3136)         0           average_pooling2d_5[0][0]        \n",
      "__________________________________________________________________________________________________\n",
      "dense_1 (Dense)                 (None, 128)          401536      flatten_1[0][0]                  \n",
      "__________________________________________________________________________________________________\n",
      "labels (Dense)                  (None, 10)           1290        dense_1[0][0]                    \n",
      "__________________________________________________________________________________________________\n",
      "bboxes (Dense)                  (None, 4)            516         dense_1[0][0]                    \n",
      "==================================================================================================\n",
      "Total params: 426,638\n",
      "Trainable params: 426,638\n",
      "Non-trainable params: 0\n",
      "__________________________________________________________________________________________________\n"
     ]
    }
   ],
   "source": [
    "inputs = layers.Input(shape=(75, 75, 1,))\n",
    "x = layers.Conv2D(16, activation='relu', kernel_size=3, input_shape=(75, 75, 1))(inputs)\n",
    "x = layers.AveragePooling2D((2, 2))(x)\n",
    "x = layers.Conv2D(32,kernel_size=3,activation='relu')(x)\n",
    "x = layers.AveragePooling2D((2, 2))(x)\n",
    "x = layers.Conv2D(64,kernel_size=3,activation='relu')(x)\n",
    "x = layers.AveragePooling2D((2, 2))(x)\n",
    "x = layers.Flatten()(x)\n",
    "x = layers.Dense(128, activation='relu')(x)\n",
    "labels = layers.Dense(10, activation='softmax', name='labels')(x)\n",
    "bboxes = layers.Dense(4, name='bboxes')(x)\n",
    "\n",
    "model = keras.Model(inputs = inputs, outputs = [labels, bboxes])\n",
    "model.summary()"
   ]
  },
  {
   "cell_type": "code",
   "execution_count": 57,
   "id": "8b4a0041-8a36-4668-80f7-46f1c56c3228",
   "metadata": {
    "colab": {
     "base_uri": "https://localhost:8080/"
    },
    "id": "TTwH_P-ZJ_xx",
    "outputId": "f93d6b00-ae2c-4df2-86ad-74943e8f278a"
   },
   "outputs": [
    {
     "name": "stdout",
     "output_type": "stream",
     "text": [
      "Epoch 1/10\n",
      "937/937 [==============================] - 215s 226ms/step - loss: 0.9878 - labels_loss: 0.9738 - bboxes_loss: 0.0141 - labels_accuracy: 0.6575 - bboxes_mse: 0.0141 - val_loss: 0.2999 - val_labels_loss: 0.2917 - val_bboxes_loss: 0.0082 - val_labels_accuracy: 0.9107 - val_bboxes_mse: 0.0082\n",
      "Epoch 2/10\n",
      "937/937 [==============================] - 167s 177ms/step - loss: 0.2674 - labels_loss: 0.2614 - bboxes_loss: 0.0060 - labels_accuracy: 0.9206 - bboxes_mse: 0.0060 - val_loss: 0.2118 - val_labels_loss: 0.2067 - val_bboxes_loss: 0.0051 - val_labels_accuracy: 0.9355 - val_bboxes_mse: 0.0051\n",
      "Epoch 3/10\n",
      "937/937 [==============================] - 162s 172ms/step - loss: 0.1928 - labels_loss: 0.1889 - bboxes_loss: 0.0038 - labels_accuracy: 0.9424 - bboxes_mse: 0.0038 - val_loss: 0.1538 - val_labels_loss: 0.1504 - val_bboxes_loss: 0.0034 - val_labels_accuracy: 0.9541 - val_bboxes_mse: 0.0034\n",
      "Epoch 4/10\n",
      "937/937 [==============================] - 177s 188ms/step - loss: 0.1612 - labels_loss: 0.1584 - bboxes_loss: 0.0028 - labels_accuracy: 0.9521 - bboxes_mse: 0.0028 - val_loss: 0.1213 - val_labels_loss: 0.1190 - val_bboxes_loss: 0.0023 - val_labels_accuracy: 0.9643 - val_bboxes_mse: 0.0023\n",
      "Epoch 5/10\n",
      "937/937 [==============================] - 172s 182ms/step - loss: 0.1305 - labels_loss: 0.1284 - bboxes_loss: 0.0021 - labels_accuracy: 0.9610 - bboxes_mse: 0.0021 - val_loss: 0.1103 - val_labels_loss: 0.1083 - val_bboxes_loss: 0.0019 - val_labels_accuracy: 0.9669 - val_bboxes_mse: 0.0019\n",
      "Epoch 6/10\n",
      "937/937 [==============================] - 170s 180ms/step - loss: 0.1124 - labels_loss: 0.1107 - bboxes_loss: 0.0017 - labels_accuracy: 0.9655 - bboxes_mse: 0.0017 - val_loss: 0.0877 - val_labels_loss: 0.0863 - val_bboxes_loss: 0.0014 - val_labels_accuracy: 0.9744 - val_bboxes_mse: 0.0014\n",
      "Epoch 7/10\n",
      "937/937 [==============================] - 174s 185ms/step - loss: 0.0959 - labels_loss: 0.0945 - bboxes_loss: 0.0014 - labels_accuracy: 0.9710 - bboxes_mse: 0.0014 - val_loss: 0.0744 - val_labels_loss: 0.0731 - val_bboxes_loss: 0.0013 - val_labels_accuracy: 0.9751 - val_bboxes_mse: 0.0013\n",
      "Epoch 8/10\n",
      "937/937 [==============================] - 173s 183ms/step - loss: 0.0869 - labels_loss: 0.0857 - bboxes_loss: 0.0012 - labels_accuracy: 0.9740 - bboxes_mse: 0.0012 - val_loss: 0.0677 - val_labels_loss: 0.0661 - val_bboxes_loss: 0.0016 - val_labels_accuracy: 0.9790 - val_bboxes_mse: 0.0016\n",
      "Epoch 9/10\n",
      "937/937 [==============================] - 173s 183ms/step - loss: 0.0813 - labels_loss: 0.0801 - bboxes_loss: 0.0012 - labels_accuracy: 0.9754 - bboxes_mse: 0.0012 - val_loss: 0.0676 - val_labels_loss: 0.0666 - val_bboxes_loss: 0.0010 - val_labels_accuracy: 0.9790 - val_bboxes_mse: 0.0010\n",
      "Epoch 10/10\n",
      "937/937 [==============================] - 171s 181ms/step - loss: 0.0744 - labels_loss: 0.0733 - bboxes_loss: 0.0011 - labels_accuracy: 0.9773 - bboxes_mse: 0.0011 - val_loss: 0.0685 - val_labels_loss: 0.0674 - val_bboxes_loss: 0.0011 - val_labels_accuracy: 0.9783 - val_bboxes_mse: 0.0011\n"
     ]
    }
   ],
   "source": [
    "model.compile(optimizer='adam', \n",
    "              loss = {'labels' : 'categorical_crossentropy', #因为是one-hot\n",
    "                      'bboxes' : 'mse'},\n",
    "              metrics = {'labels' : 'accuracy',\n",
    "                         'bboxes' : 'mse'})\n",
    "\n",
    "history = model.fit(train, steps_per_epoch=int(train_num//BATCH_SIZE), #n_batches/epoch\n",
    "                    validation_data=test, validation_steps=1, #因为test是整体加载\n",
    "                    epochs=10) \n"
   ]
  },
  {
   "cell_type": "markdown",
   "id": "75c4ecfa-6b18-4916-a77a-09285fe735a2",
   "metadata": {},
   "source": [
    "#### Evaluation"
   ]
  },
  {
   "cell_type": "code",
   "execution_count": 60,
   "id": "68adea49-f734-4861-b272-9831792ef7fb",
   "metadata": {},
   "outputs": [
    {
     "name": "stdout",
     "output_type": "stream",
     "text": [
      "1/1 [==============================] - 13s 13s/step - loss: 0.0671 - labels_loss: 0.0660 - bboxes_loss: 0.0011 - labels_accuracy: 0.9786 - bboxes_mse: 0.0011\n"
     ]
    },
    {
     "data": {
      "text/plain": [
       "[0.06711210310459137,\n",
       " 0.06604460626840591,\n",
       " 0.0010674934601411223,\n",
       " 0.978600025177002,\n",
       " 0.0010674934601411223]"
      ]
     },
     "execution_count": 60,
     "metadata": {},
     "output_type": "execute_result"
    }
   ],
   "source": [
    "model.evaluate(test, steps=1)"
   ]
  },
  {
   "cell_type": "code",
   "execution_count": 63,
   "id": "02845d2b-2033-4da3-bade-bb7df4646831",
   "metadata": {},
   "outputs": [],
   "source": [
    "def plot_metrics(history, string):\n",
    "    plt.plot(history.history[string],label=string)\n",
    "    plt.plot(history.history['val_'+string],label='val_'+string)\n",
    "    plt.xlabel(\"Epochs\")\n",
    "    plt.title(string.capitalize())\n",
    "    plt.legend()\n",
    "    plt.show()"
   ]
  },
  {
   "cell_type": "code",
   "execution_count": 64,
   "id": "8aa683fc-f1f8-42d4-934d-b8be125969d5",
   "metadata": {
    "colab": {
     "base_uri": "https://localhost:8080/",
     "height": 284
    },
    "id": "Cz-b8TxU6EDj",
    "outputId": "4efe73a2-0773-415c-8da5-424058eae872"
   },
   "outputs": [
    {
     "data": {
      "image/png": "[encoded data removed]",
      "text/plain": [
       "<Figure size 432x288 with 1 Axes>"
      ]
     },
     "metadata": {
      "needs_background": "light"
     },
     "output_type": "display_data"
    },
    {
     "data": {
      "image/png": "[encoded data removed]",
      "text/plain": [
       "<Figure size 432x288 with 1 Axes>"
      ]
     },
     "metadata": {
      "needs_background": "light"
     },
     "output_type": "display_data"
    }
   ],
   "source": [
    "plot_metrics(history, \"labels_loss\")\n",
    "plot_metrics(history, 'bboxes_loss')"
   ]
  },
  {
   "cell_type": "code",
   "execution_count": 65,
   "id": "08e253a1-d16f-413c-9e6a-c6b647eac21d",
   "metadata": {
    "colab": {
     "base_uri": "https://localhost:8080/",
     "height": 284
    },
    "id": "Cz-b8TxU6EDj",
    "outputId": "4efe73a2-0773-415c-8da5-424058eae872"
   },
   "outputs": [
    {
     "data": {
      "image/png": "[encoded data removed]",
      "text/plain": [
       "<Figure size 432x288 with 1 Axes>"
      ]
     },
     "metadata": {
      "needs_background": "light"
     },
     "output_type": "display_data"
    },
    {
     "data": {
      "image/png": "[encoded data removed]",
      "text/plain": [
       "<Figure size 432x288 with 1 Axes>"
      ]
     },
     "metadata": {
      "needs_background": "light"
     },
     "output_type": "display_data"
    }
   ],
   "source": [
    "plot_metrics(history, \"labels_accuracy\")\n",
    "plot_metrics(history, 'bboxes_mse')"
   ]
  },
  {
   "cell_type": "code",
   "execution_count": 74,
   "id": "5b889954-a00d-4f9c-bac1-f2b3c1d33546",
   "metadata": {
    "id": "YFqJxt3_VrCm"
   },
   "outputs": [],
   "source": [
    "def iou(bboxes, y_pred_bboxes, smoothing_factor = 1e-10): #降低noise\n",
    "    xmin_true, ymin_true, xmax_true, ymax_true = np.split(bboxes, 4, axis = 1)\n",
    "    xmin_pred, ymin_pred, xmax_pred, ymax_pred =  np.split(y_pred_bboxes, 4, axis = 1)\n",
    "    \n",
    "    # Coordinates \n",
    "    xmin = np.maximum(xmin_pred, xmin_true)\n",
    "    xmax = np.minimum(xmax_pred, xmax_true)\n",
    "    ymin = np.maximum(ymin_pred, ymin_true)\n",
    "    ymax = np.minimum(ymax_pred, ymax_true)\n",
    "\n",
    "    # Areas\n",
    "    y_pred_bbox_area = (xmax_pred - xmin_pred) * (ymax_pred - ymin_pred)\n",
    "    box_area = (xmax_true - xmin_true) * (ymax_true - ymin_true)\n",
    "    overlap_area = np.maximum((xmax - xmin), 0)  * np.maximum((ymax - ymin), 0)\n",
    "    union_area = (y_pred_bbox_area + box_area) - overlap_area\n",
    "    \n",
    "    iou = (overlap_area+smoothing_factor)/(union_area+smoothing_factor)\n",
    "\n",
    "    return iou"
   ]
  },
  {
   "cell_type": "markdown",
   "id": "eac42cf5-8bfa-4cfa-a07d-d0444e62279b",
   "metadata": {},
   "source": [
    "#### Prediction"
   ]
  },
  {
   "cell_type": "code",
   "execution_count": 221,
   "id": "04d4ee54-5907-4d9a-a099-5de65e37940a",
   "metadata": {},
   "outputs": [],
   "source": [
    "def draw_bbox_on_image(image, xmin, ymin, xmax, ymax, color, thickness, \n",
    "                       normalized_coordinates):\n",
    "    # 用PIL\n",
    "    draw = ImageDraw.Draw(image) #在新图层上画\n",
    "    if normalized_coordinates: #相对位置\n",
    "        width, height = image.size\n",
    "        (x1, y1, x2, y2) = (xmin*width, ymin*height, xmax*width, ymax*height)\n",
    "    else:\n",
    "        (x1, y1, x2, y2) = (xmin, ymin, xmax, ymax)\n",
    "    draw.line([(x1, y1), (x1, y2), (x2, y2), (x2, y1), (x1, y1)], \n",
    "              width=thickness, fill=color) #从左上开始逆时针画\n",
    "    return image\n",
    "\n",
    "\n",
    "def draw_bboxes_on_image(image, boxes, color=['green','red'], #PIL\n",
    "                         thickness=1, normalized_coordinates=True):\n",
    "    image = Image.fromarray(image)\n",
    "    overlay_box = Image.new(\"RGBA\", image.size) #创建新图层画框，因为原图是一通道的数组\n",
    "    overlay_box.paste(image)\n",
    "    for i in range(boxes.shape[0]): #遍历所有boxes\n",
    "        xmin, ymin, xmax, ymax = boxes[i]\n",
    "        draw_bbox_on_image(overlay_box, xmin, ymin, xmax, ymax, color[i], \n",
    "                           thickness, normalized_coordinates) #在新图层上画框      \n",
    "    \n",
    "    return overlay_box\n",
    "\n",
    "\n",
    "def display_image_with_bboxes(dataset, n, iou_threshold=0.6):\n",
    "    val = dataset.unbatch().shuffle(BUFFER_SIZE).batch(n)\n",
    "  \n",
    "    plt.figure(figsize=(20,4))\n",
    "    for images, (labels, bboxes) in val.take(1):\n",
    "        (y_pred_labels, y_pred_bboxes) = model.predict(images)\n",
    "        y_pred_labels = np.argmax(y_pred_labels, axis=1)\n",
    "        labels = np.argmax(labels, axis=1)\n",
    "        iou_score = iou(bboxes, y_pred_bboxes)\n",
    "        images = images.numpy().reshape(n,75,75) #需要调整格式，才能后续转为图片\n",
    "        images = images*255\n",
    "        for i in range(n):\n",
    "            plt.subplot(1,n,i+1)\n",
    "            boxes = np.array([bboxes[i], y_pred_bboxes[i]])\n",
    "            img_with_bboxes = draw_bboxes_on_image(images[i], boxes)\n",
    "            plt.imshow(img_with_bboxes)\n",
    "            label_correct = y_pred_labels[i]==labels[i]\n",
    "            plt.title(f'{y_pred_labels[i]} ({\"True\" if label_correct else \"should be \"+labels[i]})', \n",
    "                      fontsize=12, color='green' if label_correct else 'red')\n",
    "            \n",
    "            iou_high = iou_score[i] > iou_threshold\n",
    "            plt.xlabel('iou: {:.2f}'.format(iou_score[i][0]), fontsize=12, color='green' if iou_high else 'red')\n",
    "            \n",
    "            plt.xticks([])\n",
    "            plt.yticks([])"
   ]
  },
  {
   "cell_type": "code",
   "execution_count": 222,
   "id": "766759b1-20ba-4764-a1d8-30cdfe77f998",
   "metadata": {
    "tags": []
   },
   "outputs": [
    {
     "data": {
      "image/png": "[encoded data removed]",
      "text/plain": [
       "<Figure size 1440x288 with 9 Axes>"
      ]
     },
     "metadata": {},
     "output_type": "display_data"
    }
   ],
   "source": [
    "display_image_with_bboxes(test, 9)"
   ]
  },
  {
   "cell_type": "code",
   "execution_count": 180,
   "id": "48774ff8-8389-4200-9898-21b201454328",
   "metadata": {
    "id": "qhdz68Xm3Z4Z"
   },
   "outputs": [],
   "source": [
    "# create digits from local fonts for testing\n",
    "MATPLOTLIB_FONT_DIR = os.path.join(os.path.dirname(plt.__file__), \"mpl-data/fonts/ttf\")\n",
    "def create_digits_from_local_fonts(n):\n",
    "    font_labels = []\n",
    "    img = PIL.Image.new('LA', (75*n, 75), color = (0,255)) # format 'LA': black in channel 0, alpha in channel 1\n",
    "    font1 = PIL.ImageFont.truetype(os.path.join(MATPLOTLIB_FONT_DIR, 'DejaVuSansMono-Oblique.ttf'), 25)\n",
    "    font2 = PIL.ImageFont.truetype(os.path.join(MATPLOTLIB_FONT_DIR, 'STIXGeneral.ttf'), 25)\n",
    "    d = ImageDraw.Draw(img)\n",
    "    for i in range(n):\n",
    "        font_labels.append(i%10)\n",
    "        d.text((7+i*75,0 if i<10 else -4), str(i%10), fill=(255,255), font=font1 if i<10 else font2)\n",
    "        font_digits = np.array(img.getdata(), np.float32)[:,0] / 255.0 # black in channel 0, alpha in channel 1 (discarded)\n",
    "        font_digits = np.reshape(np.stack(np.split(np.reshape(font_digits, [75, 75*n]), n, axis=1), axis=0), [n, 75*75])\n",
    "    return font_digits, font_labels"
   ]
  }
 ],
 "metadata": {
  "kernelspec": {
   "display_name": "Python 3 (ipykernel)",
   "language": "python",
   "name": "python3"
  },
  "language_info": {
   "codemirror_mode": {
    "name": "ipython",
    "version": 3
   },
   "file_extension": ".py",
   "mimetype": "text/x-python",
   "name": "python",
   "nbconvert_exporter": "python",
   "pygments_lexer": "ipython3",
   "version": "3.8.8"
  }
 },
 "nbformat": 4,
 "nbformat_minor": 5
}
